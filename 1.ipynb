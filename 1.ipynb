{
 "cells": [
  {
   "cell_type": "code",
   "execution_count": 31,
   "metadata": {},
   "outputs": [
    {
     "data": {
      "text/plain": [
       "{'周嘉铖': 2019660101,\n",
       " '钱珑超': 2019660102,\n",
       " '徐展': 2019660103,\n",
       " '尤桉哲': 2019660104,\n",
       " '钱涛': 2019660105,\n",
       " '黄舒怡': 2019660106,\n",
       " '胡志辉': 2019660107,\n",
       " '吴昭耀': 2019660108,\n",
       " '陈萌萌': 2019660109,\n",
       " '郑巧悦': 2019660110,\n",
       " '陈艳': 2019660111,\n",
       " '梁明皓': 2019660112,\n",
       " '蒋俊超': 2019660113,\n",
       " '徐颖': 2019660114,\n",
       " '倪宏涛': 2019660115,\n",
       " '潘梦倩': 2019660116,\n",
       " '王中阳': 2019660117,\n",
       " '毛贞强': 2019660119,\n",
       " '张嫒': 2019660120,\n",
       " '朱速航': 2019660121,\n",
       " '陈涛': 2019660122,\n",
       " '陆元超': 2019660123,\n",
       " '叶振雄': 2019660124,\n",
       " '奚申杰': 2019660125,\n",
       " '叶梦婷': 2019660126,\n",
       " '徐丽丽': 2019660127,\n",
       " '潘艳': 2019660128}"
      ]
     },
     "execution_count": 31,
     "metadata": {},
     "output_type": "execute_result"
    }
   ],
   "source": [
    "keys = ['周嘉铖','钱珑超','徐展','尤桉哲','钱涛','黄舒怡','胡志辉','吴昭耀','陈萌萌','郑巧悦','陈艳','梁明皓','蒋俊超','徐颖','倪宏涛','潘梦倩','王中阳','毛贞强','张嫒','朱速航','陈涛','陆元超','叶振雄','奚申杰','叶梦婷','徐丽丽','潘艳']\n",
    "values = [2019660101,2019660102,2019660103,2019660104,2019660105,2019660106,2019660107,2019660108,2019660109,2019660110,2019660111,2019660112,2019660113,2019660114,2019660115,2019660116,2019660117,2019660119,2019660120,2019660121,2019660122,2019660123,2019660124,2019660125,2019660126,2019660127,2019660128]\n",
    "mydict = dict(zip(keys,values))\n",
    "mydict"
   ]
  },
  {
   "cell_type": "code",
   "execution_count": 250,
   "metadata": {},
   "outputs": [
    {
     "name": "stdout",
     "output_type": "stream",
     "text": [
      "要抽取的数量4\n",
      "钱珑超 2019660102\n",
      "叶梦婷 2019660126\n",
      "陆元超 2019660123\n",
      "陈艳 2019660111\n"
     ]
    }
   ],
   "source": [
    "import  random\n",
    "k=int(input('要抽取的数量'))\n",
    "keys=list(mydict)\n",
    "name=random.sample(keys,k)\n",
    "for i in name:\n",
    "    print(i,mydict[i])\n",
    "\n"
   ]
  },
  {
   "cell_type": "code",
   "execution_count": 226,
   "metadata": {},
   "outputs": [
    {
     "name": "stdout",
     "output_type": "stream",
     "text": [
      "key1\n"
     ]
    }
   ],
   "source": [
    "\n"
   ]
  },
  {
   "cell_type": "code",
   "execution_count": null,
   "metadata": {},
   "outputs": [],
   "source": []
  }
 ],
 "metadata": {
  "kernelspec": {
   "display_name": "Python 3",
   "language": "python",
   "name": "python3"
  },
  "language_info": {
   "codemirror_mode": {
    "name": "ipython",
    "version": 3
   },
   "file_extension": ".py",
   "mimetype": "text/x-python",
   "name": "python",
   "nbconvert_exporter": "python",
   "pygments_lexer": "ipython3",
   "version": "3.7.0"
  }
 },
 "nbformat": 4,
 "nbformat_minor": 2
}
